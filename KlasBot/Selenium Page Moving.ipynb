{
 "cells": [
  {
   "cell_type": "code",
   "execution_count": 1,
   "id": "municipal-amount",
   "metadata": {},
   "outputs": [],
   "source": [
    "from selenium import webdriver\n",
    "from selenium.webdriver.chrome.options import Options\n",
    "from selenium.webdriver.common.keys import Keys\n",
    "import time"
   ]
  },
  {
   "cell_type": "code",
   "execution_count": 2,
   "id": "antique-lincoln",
   "metadata": {},
   "outputs": [],
   "source": [
    "from selenium.webdriver.support.ui import WebDriverWait\n",
    "from selenium.webdriver.common.by import By\n",
    "from selenium.webdriver.support import expected_conditions as EC"
   ]
  },
  {
   "cell_type": "code",
   "execution_count": 25,
   "id": "colored-surgery",
   "metadata": {},
   "outputs": [],
   "source": [
    "class MyDriver:\n",
    "    def __init__(self):\n",
    "        options = webdriver.ChromeOptions()\n",
    "        #options.add_argument(\"headless\")\n",
    "        #options.add_argument(\"disable-gpu\")\n",
    "        #options.add_argument(\"disable-infobars\")\n",
    "        #options.add_argument(\"no-sandbox\")\n",
    "        #options.add_argument(\"disable-dev-shm-usage\")\n",
    "        #options.add_argument(\"enable-experimental-web-platform-features\")\n",
    "        #options.add_argument(\"default-background-color FFFFFF00\")\n",
    "        \n",
    "        self.__driver = webdriver.Chrome(options=options)\n",
    "        self.__driver.get('https://klas.kw.ac.kr/')\n",
    "        \n",
    "    def accessToLogin(self, _id, _pw):\n",
    "        #WebDriverWait(driver, 10).until(EC.presence_of_element_located((By.XPATH, \"/html/body/div[1]/div/div/div[2]/form/div[2]/button\")))\n",
    "        time.sleep(1)\n",
    "        elemId = self.__driver.find_element_by_id(\"loginId\")\n",
    "        elemId.send_keys(_id)\n",
    "\n",
    "        elemPW = self.__driver.find_element_by_id(\"loginPwd\")\n",
    "        elemPW.send_keys(_pw)\n",
    "        elemPW.send_keys(Keys.ENTER)\n",
    "\n",
    "        time.sleep(1)\n",
    "        #WebDriverWait(driver, 10).until(EC.presence_of_element_located((By.XPATH, \"/html/body/header/div[1]/div/div[1]/button\")))\n",
    "        print(\"로그인 완료...\")\n",
    "        \n",
    "    def accessToAssignmentPage(self):\n",
    "        ## 과제 제출 페이지까지 가는 경로\n",
    "        self.__driver.find_element_by_css_selector('div.toplogo > button').click()\n",
    "        self.__driver.find_element_by_xpath('//*[@id=\"navbarHeader\"]/div/div/div[2]/ul/li[1]/ul/li[6]/a').click()\n",
    "        #WebDriverWait(driver, 10).until(EC.presence_of_element_located((By.XPATH, \"//*[@id='appSelectSubj']/div[1]/div/div[2]/select\")))\n",
    "        time.sleep(0.5)\n",
    "        # 수강학기 일단 변경\n",
    "        self.__driver.find_element_by_css_selector('#appSelectSubj > div.col-md-5 > div > div.col-9 > select > option:nth-child(2)').click()\n",
    "        #WebDriverWait(driver, 10).until(EC.presence_of_element_located((By.XPATH, \"//*[@id='appSelectSubj']/div[1]/div/div[2]/select\")))\n",
    "        time.sleep(0.1)\n",
    "\n",
    "        req = self.__driver.page_source\n",
    "\n",
    "        self.__driver.get('https://klas.kw.ac.kr/')\n",
    "        print(\"접근완료\")\n",
    "        return req\n",
    "    \n",
    "    def quitDriver(self):\n",
    "        self.__driver.quit()\n",
    "    \n",
    "    def closeDriver(self):\n",
    "        self.__driver.close()"
   ]
  },
  {
   "cell_type": "code",
   "execution_count": 42,
   "id": "talented-coordinator",
   "metadata": {
    "scrolled": true
   },
   "outputs": [
    {
     "name": "stdout",
     "output_type": "stream",
     "text": [
      "로그인 완료...\n",
      "로그인 완료...\n"
     ]
    }
   ],
   "source": [
    "myDriver = MyDriver()\n",
    "myDriver.accessToLogin('2018203092', 'tkddlf^^12')\n",
    "myDriver1 = MyDriver()\n",
    "myDriver1.accessToLogin('2018203039', 'sdh9606^^')\n",
    "time.sleep(2)\n",
    "myDriver.quitDriver()\n",
    "myDriver1.quitDriver()"
   ]
  },
  {
   "cell_type": "code",
   "execution_count": 21,
   "id": "expired-mitchell",
   "metadata": {},
   "outputs": [
    {
     "name": "stdout",
     "output_type": "stream",
     "text": [
      "Main Thread\n",
      "Subjthread 499999500000\n"
     ]
    }
   ],
   "source": [
    "import threading\n",
    "\n",
    "def sum(low, high):\n",
    "    total=0\n",
    "    for i in range(low, high):\n",
    "        total +=i\n",
    "    print(\"Subjthread\", total)\n",
    "t = threading.Thread(target=sum, args=(1, 1000000))\n",
    "\n",
    "t.start()\n",
    "\n",
    "print(\"Main Thread\")"
   ]
  },
  {
   "cell_type": "code",
   "execution_count": 22,
   "id": "collect-inspection",
   "metadata": {},
   "outputs": [
    {
     "name": "stdout",
     "output_type": "stream",
     "text": [
      "### End ###\n",
      "http://google.com 14097  chars\n"
     ]
    }
   ],
   "source": [
    "import threading, requests, time\n",
    "\n",
    "def getHtml(url):\n",
    "    resp = requests.get(url)\n",
    "    time.sleep(1)\n",
    "    print(url, len(resp.text), ' chars')\n",
    "\n",
    "t1 = threading.Thread(target=getHtml, args=('http://google.com', ))\n",
    "t1.start()\n",
    "\n",
    "print(\"### End ###\")"
   ]
  },
  {
   "cell_type": "code",
   "execution_count": 30,
   "id": "motivated-decision",
   "metadata": {
    "scrolled": true
   },
   "outputs": [
    {
     "name": "stdout",
     "output_type": "stream",
     "text": [
      "### End ###\n",
      "http://google.com 14036  chars\n",
      "['http://google.com']\n",
      "http://google.com 14051  chars\n",
      "['http://google.com', 'http://google.com']\n"
     ]
    }
   ],
   "source": [
    "data = []\n",
    "\n",
    "class HtmlGetter(threading.Thread):\n",
    "    def __init__(self, url):\n",
    "        threading.Thread.__init__(self)\n",
    "        self.url = url\n",
    "        \n",
    "    def run(self):\n",
    "        resp = requests.get(self.url)\n",
    "        time.sleep(1)\n",
    "        print(self.url, len(resp.text), ' chars')\n",
    "        global data\n",
    "        data.append(self.url)\n",
    "        print(data)\n",
    "        \n",
    "HtmlGetter('http://google.com').start()\n",
    "HtmlGetter('http://google.com').start()\n",
    "\n",
    "print(\"### End ###\")"
   ]
  },
  {
   "cell_type": "markdown",
   "id": "naked-destination",
   "metadata": {},
   "source": [
    "# Thread 사용한 Current Page\n",
    "\n",
    "****!주의해야할점****\n",
    "\n",
    "- Crawling 함수는 어떻게 처리해야 할까?  \n",
    "\n",
    "\n",
    "- 페이지 이동은, 과목별로 해야함을 명심하자!  \n",
    "    - 따라서 클래스 쓰레드를 실행시킬때, 인자로 (id, pw, 과목명 혹은 과목ID)를 받도록 하자  \n",
    "    \n",
    "    - 페이지 이동 순서 : 로그인 -> 과목 목차에서 해당 과목 진입 -> 오른쪽 상단 테이블에서 각 카테코리 별 진입\n",
    "    \n",
    "    \n",
    "- ThreadTimer 를 사용하여 주기적으로 실행 가능하게 되었다.  \n",
    "\n",
    "\n",
    "- Thread의 데이터 동기화를 사용하여 DB에 저장할 수 있다.  "
   ]
  },
  {
   "cell_type": "code",
   "execution_count": 16,
   "id": "exposed-alert",
   "metadata": {},
   "outputs": [],
   "source": [
    "import threading\n",
    "class MyThreadDriver(threading.Thread):\n",
    "    def __init__(self, _id, _pw, subject_name):\n",
    "        threading.Thread.__init__(self)\n",
    "        options = webdriver.ChromeOptions()\n",
    "        #options.add_argument(\"headless\")\n",
    "        #options.add_argument(\"disable-gpu\")\n",
    "        #options.add_argument(\"disable-infobars\")\n",
    "        #options.add_argument(\"no-sandbox\")\n",
    "        #options.add_argument(\"disable-dev-shm-usage\")\n",
    "        #options.add_argument(\"enable-experimental-web-platform-features\")\n",
    "        #options.add_argument(\"default-background-color FFFFFF00\")\n",
    "        self.id = _id\n",
    "        self.pw = _pw\n",
    "        self.subject_name = subject_name\n",
    "        self.__driver = webdriver.Chrome(options=options)\n",
    "        \n",
    "    def run(self):\n",
    "        try:\n",
    "            self.__driver.get('https://klas.kw.ac.kr/')\n",
    "            self.accessToLogin()\n",
    "            self.goToAssignmentPage()\n",
    "        except:\n",
    "            print(\"error\")\n",
    "        finally:\n",
    "            self.closeDriver()\n",
    "        \n",
    "    def accessToLogin(self):\n",
    "        # WebDriverWait(driver, 10).until(EC.presence_of_element_located((By.XPATH, \"/html/body/div[1]/div/div/div[2]/form/div[2]/button\")))\n",
    "        time.sleep(1)\n",
    "        elemId = self.__driver.find_element_by_id(\"loginId\")\n",
    "        elemId.send_keys(self.id)\n",
    "\n",
    "        elemPW = self.__driver.find_element_by_id(\"loginPwd\")\n",
    "        elemPW.send_keys(self.pw)\n",
    "        elemPW.send_keys(Keys.ENTER)\n",
    "\n",
    "        time.sleep(1)\n",
    "        # WebDriverWait(driver, 10).until(EC.presence_of_element_located((By.XPATH, \"/html/body/header/div[1]/div/div[1]/button\")))\n",
    "        print(\"로그인 완료...\")\n",
    "        self.getIntoSubject()\n",
    "        time.sleep(1)\n",
    "        \n",
    "    def getIntoSubject(self):\n",
    "        # 해당 과목 페이지로 진입\n",
    "        subjects = self.__driver.find_elements_by_css_selector(\".subjectlist > li > div.left\")\n",
    "        for subject in subjects:\n",
    "            name = subject.text.split()[0]\n",
    "            if name == self.subject_name:\n",
    "                subject.click()\n",
    "                break\n",
    "    # 인터넷 강의 경로 -> 1, 1\n",
    "    # 공지사항\n",
    "    # 과제 경로 -> 2, 2\n",
    "    def goToAssignmentPage(self):\n",
    "        ## 과제 제출 페이지까지 가는 경로\n",
    "        url = self.getCssSelector(2, 2)\n",
    "        self.__driver.find_element_by_css_selector(url).click()\n",
    "        print(\"접근완료\")\n",
    "        time.sleep(1)\n",
    "        self.goToPrevUrl()\n",
    "        time.sleep(1)\n",
    "    \n",
    "    def getCssSelector(self, div, li):\n",
    "        return \".subjectpresentbox > div.tablelistbox > div > div:nth-child({}) > ul > li:nth-child({}) > a\".format(div, li)\n",
    "    \n",
    "    def goToPrevUrl(self):\n",
    "        self.__driver.execute_script(\"window.history.go(-1)\")\n",
    "        \n",
    "    def quitDriver(self):\n",
    "        self.__driver.quit()\n",
    "    \n",
    "    def closeDriver(self):\n",
    "        self.__driver.close()\n",
    "        \n",
    "        "
   ]
  },
  {
   "cell_type": "code",
   "execution_count": 17,
   "id": "resistant-kentucky",
   "metadata": {},
   "outputs": [
    {
     "name": "stdout",
     "output_type": "stream",
     "text": [
      "I am Main Thread\n",
      "로그인 완료...\n",
      "접근완료\n"
     ]
    }
   ],
   "source": [
    "MyThreadDriver('2018203092', 'tkddlf^^12', \"데이터베이스\").start()\n",
    "# MyThreadDriver('2018203039', 'sdh9606^^').start()\n",
    "# MyThreadDriver('2018203092', 'tkddlf^^12').start()\n",
    "# MyThreadDriver('2018203092', 'tkddlf^^12').start()\n",
    "# MyThreadDriver('2018203039', 'sdh9606^^').start()\n",
    "# MyThreadDriver('2018203092', 'tkddlf^^12').start()\n",
    "# MyThreadDriver('2018203092', 'tkddlf^^12').start()\n",
    "# MyThreadDriver('2018203039', 'sdh9606^^').start()\n",
    "# MyThreadDriver('2018203092', 'tkddlf^^12').start()\n",
    "\n",
    "print(\"I am Main Thread\")"
   ]
  },
  {
   "cell_type": "code",
   "execution_count": null,
   "id": "short-party",
   "metadata": {},
   "outputs": [],
   "source": []
  },
  {
   "cell_type": "code",
   "execution_count": null,
   "id": "excess-crawford",
   "metadata": {},
   "outputs": [],
   "source": []
  }
 ],
 "metadata": {
  "kernelspec": {
   "display_name": "Python 3",
   "language": "python",
   "name": "python3"
  },
  "language_info": {
   "codemirror_mode": {
    "name": "ipython",
    "version": 3
   },
   "file_extension": ".py",
   "mimetype": "text/x-python",
   "name": "python",
   "nbconvert_exporter": "python",
   "pygments_lexer": "ipython3",
   "version": "3.8.5"
  }
 },
 "nbformat": 4,
 "nbformat_minor": 5
}
