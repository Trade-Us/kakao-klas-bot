{
 "cells": [
  {
   "cell_type": "code",
   "execution_count": null,
   "id": "exciting-framing",
   "metadata": {},
   "outputs": [],
   "source": [
    "import sqlalchemy\n",
    "\n",
    "print(sqlalchemy.__version__)\n",
    "\n",
    "from sqlalchemy import create_engine\n",
    "# Use in-memory-only SQLite database\n",
    "# echo : Setting up SQLAlchemy logging -> 작업이 실행되는 과정을 log로 보여준다.\n",
    "engine = create_engine('sqlite:///:memory:', echo=True)\n",
    "\n",
    "from sqlalchemy.ext.declarative import declarative_base\n",
    "Base = declarative_base()\n",
    "\n",
    "from sqlalchemy import Column, Integer, String\n",
    "class User(Base):\n",
    "    # 최소로 필요한 요소이다. __tablename__ 그리고 1개 이상의 Column with primary key\n",
    "    __tablename__ = 'users'\n",
    "\n",
    "    id = Column(Integer, primary_key = True)\n",
    "    name = Column(String)\n",
    "    fullname = Column(String)\n",
    "    nickname = Column(String)\n",
    "\n",
    "    def __repr__(self):\n",
    "        return \"<User(name='%s%, fullname='%s', nickname='%s')>\" % (self.name, self.fullname, self.nickname)\n",
    "\n",
    "User.__table__"
   ]
  }
 ],
 "metadata": {
  "kernelspec": {
   "display_name": "Python 3",
   "language": "python",
   "name": "python3"
  },
  "language_info": {
   "codemirror_mode": {
    "name": "ipython",
    "version": 3
   },
   "file_extension": ".py",
   "mimetype": "text/x-python",
   "name": "python",
   "nbconvert_exporter": "python",
   "pygments_lexer": "ipython3",
   "version": "3.8.5"
  }
 },
 "nbformat": 4,
 "nbformat_minor": 5
}
