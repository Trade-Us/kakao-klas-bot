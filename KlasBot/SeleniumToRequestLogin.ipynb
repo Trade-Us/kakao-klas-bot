{
 "cells": [
  {
   "cell_type": "code",
   "execution_count": 23,
   "id": "beginning-devil",
   "metadata": {},
   "outputs": [],
   "source": [
    "from selenium import webdriver\n",
    "import requests\n",
    "import time"
   ]
  },
  {
   "cell_type": "code",
   "execution_count": 25,
   "id": "electronic-squad",
   "metadata": {},
   "outputs": [
    {
     "name": "stdout",
     "output_type": "stream",
     "text": [
      "https://klas.kw.ac.kr/usr/cmn/login/LoginForm.do?redirectUrl=/std/cmn/frame/Frame.do\n"
     ]
    }
   ],
   "source": [
    "driver = webdriver.Chrome('./chromedriver')\n",
    "#driver.implicitly_wait(1)\n",
    "base_url = \"https://klas.kw.ac.kr/\"\n",
    "driver.get(base_url)\n",
    "driver.find_element_by_id('loginId').send_keys('2018203092')\n",
    "driver.find_element_by_id('loginPwd').send_keys('tkddlf^^12')\n",
    "\n",
    "driver.find_element_by_xpath('/html/body/div[1]/div/div/div[2]/form/div[2]/button').click()\n",
    "\n",
    "response = requests.get(\"https://klas.kw.ac.kr/std/cmn/frame/Frame.do\")\n",
    "print(response.url)"
   ]
  },
  {
   "cell_type": "code",
   "execution_count": null,
   "id": "chemical-karma",
   "metadata": {},
   "outputs": [],
   "source": []
  }
 ],
 "metadata": {
  "kernelspec": {
   "display_name": "Python 3",
   "language": "python",
   "name": "python3"
  },
  "language_info": {
   "codemirror_mode": {
    "name": "ipython",
    "version": 3
   },
   "file_extension": ".py",
   "mimetype": "text/x-python",
   "name": "python",
   "nbconvert_exporter": "python",
   "pygments_lexer": "ipython3",
   "version": "3.8.5"
  }
 },
 "nbformat": 4,
 "nbformat_minor": 5
}
